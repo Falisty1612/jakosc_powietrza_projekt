{
 "cells": [
  {
   "cell_type": "code",
   "execution_count": null,
   "id": "2b686009",
   "metadata": {},
   "outputs": [],
   "source": [
    "import pandas as pd\n",
    "import os\n",
    "from datetime import datetime\n",
    "\n",
    "# Użytkownik podaje datę (format: RRRR-MM-DD)\n",
    "data_str = input(\"Podaj datę w formacie RRRR-MM-DD (np. 2025-07-01): \").strip()\n",
    "\n",
    "# Tworzenie dynamicznych ścieżek do plików\n",
    "airly_path = f\"../data/processed/airly/airly_{data_str}.csv\"\n",
    "meteo_path = f\"../data/processed/meteo/meteo_{data_str}.csv\"\n",
    "output_path = f\"../data/combined/combined_{data_str}.csv\"\n"
   ]
  },
  {
   "cell_type": "code",
   "execution_count": 6,
   "id": "c9a0a3b0",
   "metadata": {},
   "outputs": [],
   "source": [
    "def clean_airly(df: pd.DataFrame) -> pd.DataFrame:\n",
    "    # Jeśli plik nie ma nagłówków lub brakuje kolumny 'name', nadaj je ręcznie\n",
    "    if 'name' not in df.columns:\n",
    "        df.columns = ['fromDateTime', 'tillDateTime', 'name', 'value']\n",
    "    \n",
    "    print('Kolumny po wczytaniu:', df.columns)\n",
    "    print(df.head())\n",
    "    \n",
    "    # Usuwamy strefę czasową, zostawiamy tylko datę i godzinę\n",
    "    df['fromDateTime'] = pd.to_datetime(df['fromDateTime']).dt.tz_localize(None)\n",
    "    \n",
    "    # Pivot: zamieniamy name -> kolumny\n",
    "    df = df.pivot_table(index='fromDateTime', columns='name', values='value', aggfunc='mean')\n",
    "    \n",
    "    # Reset index, by datetime był zwykłą kolumną\n",
    "    df = df.reset_index()\n",
    "    \n",
    "    # Zmiana nazw kolumn na małe litery itp.\n",
    "    df = df.rename(columns={\n",
    "        'fromDateTime': 'datetime',\n",
    "        'PM1': 'pm1',\n",
    "        'PM25': 'pm25',\n",
    "        'PM10': 'pm10',\n",
    "        'PRESSURE': 'pressure',\n",
    "        'HUMIDITY': 'humidity',\n",
    "        'TEMPERATURE': 'temperature',\n",
    "    })\n",
    "    \n",
    "    df['source'] = 'airly'\n",
    "    return df"
   ]
  },
  {
   "cell_type": "code",
   "execution_count": 7,
   "id": "9ae8abf5",
   "metadata": {},
   "outputs": [],
   "source": [
    "def clean_meteo(df: pd.DataFrame) -> pd.DataFrame:\n",
    "    \"\"\"\n",
    "    Czyści dane pogodowe z Open-Meteo:\n",
    "    - Konwertuje time na datetime\n",
    "    - Zmienia nazwy kolumn na lowercase\n",
    "    - Dodaje sufiks _meteo\n",
    "    \"\"\"\n",
    "    df['datetime'] = pd.to_datetime(df['time'])\n",
    "    df = df.rename(columns={\n",
    "        'temperature_2m': 'temperature',\n",
    "        'relative_humidity_2m': 'humidity',\n",
    "        'windspeed_10m': 'windspeed',\n",
    "    })\n",
    "\n",
    "    # Wybór kolumn i dodanie sufiksu\n",
    "    df = df[['datetime', 'temperature', 'humidity', 'windspeed']]\n",
    "    df = df.rename(columns={\n",
    "        'temperature': 'temperature_meteo',\n",
    "        'humidity': 'humidity_meteo',\n",
    "        'windspeed': 'windspeed_meteo'\n",
    "    })\n",
    "    return df\n",
    "\n"
   ]
  },
  {
   "cell_type": "code",
   "execution_count": 8,
   "id": "4ae629bd",
   "metadata": {},
   "outputs": [
    {
     "name": "stdout",
     "output_type": "stream",
     "text": [
      "Kolumny po wczytaniu: Index(['fromDateTime', 'tillDateTime', 'name', 'value'], dtype='object')\n",
      "               fromDateTime              tillDateTime      name    value\n",
      "0  2025-07-02T18:36:59.276Z  2025-07-02T19:36:59.276Z       PM1     3.24\n",
      "1  2025-07-02T18:36:59.276Z  2025-07-02T19:36:59.276Z      PM25     4.52\n",
      "2  2025-07-02T18:36:59.276Z  2025-07-02T19:36:59.276Z      PM10     6.56\n",
      "3  2025-07-02T18:36:59.276Z  2025-07-02T19:36:59.276Z  PRESSURE  1016.89\n",
      "4  2025-07-02T18:36:59.276Z  2025-07-02T19:36:59.276Z  HUMIDITY    48.94\n",
      "✅ Dane połączone i zapisane do: ../data/combined/combined_2025-07-02.csv\n"
     ]
    }
   ],
   "source": [
    "try:\n",
    "    # Wczytanie surowych danych\n",
    "    df_airly_raw = pd.read_csv(airly_path)\n",
    "    df_meteo_raw = pd.read_csv(meteo_path)\n",
    "    \n",
    "    # Czyszczenie\n",
    "    df_airly = clean_airly(df_airly_raw)\n",
    "    df_meteo = clean_meteo(df_meteo_raw)\n",
    "\n",
    "    # Połączenie po datetime (tylko wspólne wiersze)\n",
    "    df_combined = pd.merge(\n",
    "    df_airly, df_meteo,\n",
    "    on='datetime',\n",
    "    how='inner'\n",
    "    ).sort_values('datetime')\n",
    "\n",
    "    # Tworzenie katalogu jeśli nie istnieje\n",
    "    os.makedirs(os.path.dirname(output_path), exist_ok=True)\n",
    "    # Zapis\n",
    "    \n",
    "    df_combined.to_csv(output_path, index=False)\n",
    "    print(f\"✅ Dane połączone i zapisane do: {output_path}\")\n",
    "except FileNotFoundError as e:\n",
    "    print(f\"❌ Błąd: Plik {e.filename} nie został znaleziony. Sprawdź ścieżki.\")\n",
    "except pd.errors.EmptyDataError:\n",
    "    print(\"❌ Błąd: Plik jest pusty lub nie zawiera danych.\")\n",
    "except Exception as e:\n",
    "    print(f\"❌ Wystąpił błąd: {e}\")\n"
   ]
  }
 ],
 "metadata": {
  "kernelspec": {
   "display_name": "Python 3",
   "language": "python",
   "name": "python3"
  },
  "language_info": {
   "codemirror_mode": {
    "name": "ipython",
    "version": 3
   },
   "file_extension": ".py",
   "mimetype": "text/x-python",
   "name": "python",
   "nbconvert_exporter": "python",
   "pygments_lexer": "ipython3",
   "version": "3.13.3"
  }
 },
 "nbformat": 4,
 "nbformat_minor": 5
}
