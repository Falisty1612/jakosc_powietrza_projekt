{
 "cells": [
  {
   "cell_type": "code",
   "execution_count": 1,
   "id": "37876373",
   "metadata": {},
   "outputs": [],
   "source": [
    "import pandas as pd\n",
    "import matplotlib.pyplot as plt"
   ]
  },
  {
   "cell_type": "code",
   "execution_count": 22,
   "id": "7a55b7d8",
   "metadata": {},
   "outputs": [],
   "source": [
    "data_str = input(\"Podaj datę w formacie RRRR-MM-DD (np. 2025-07-01): \").strip()\n",
    "\n",
    "path = f\"../data/processed/airly/airly_{data_str}.csv\"\n",
    "\n",
    "df = pd.read_csv(path)\n",
    "\n",
    "# Pivot: każda godzina w jednym wierszu, parametry w kolumnach\"\n",
    "df_wide = df.pivot_table(index='fromDateTime', columns='parameter', values='value')\n"
   ]
  },
  {
   "cell_type": "code",
   "execution_count": 23,
   "id": "8042ea2d",
   "metadata": {},
   "outputs": [
    {
     "data": {
      "text/html": [
       "<div>\n",
       "<style scoped>\n",
       "    .dataframe tbody tr th:only-of-type {\n",
       "        vertical-align: middle;\n",
       "    }\n",
       "\n",
       "    .dataframe tbody tr th {\n",
       "        vertical-align: top;\n",
       "    }\n",
       "\n",
       "    .dataframe thead th {\n",
       "        text-align: right;\n",
       "    }\n",
       "</style>\n",
       "<table border=\"1\" class=\"dataframe\">\n",
       "  <thead>\n",
       "    <tr style=\"text-align: right;\">\n",
       "      <th></th>\n",
       "      <th>fromDateTime</th>\n",
       "      <th>tillDateTime</th>\n",
       "      <th>parameter</th>\n",
       "      <th>value</th>\n",
       "    </tr>\n",
       "  </thead>\n",
       "  <tbody>\n",
       "    <tr>\n",
       "      <th>0</th>\n",
       "      <td>2025-07-01T14:43:39.613Z</td>\n",
       "      <td>2025-07-01T15:43:39.613Z</td>\n",
       "      <td>PM1</td>\n",
       "      <td>0.28</td>\n",
       "    </tr>\n",
       "    <tr>\n",
       "      <th>1</th>\n",
       "      <td>2025-07-01T14:43:39.613Z</td>\n",
       "      <td>2025-07-01T15:43:39.613Z</td>\n",
       "      <td>PM25</td>\n",
       "      <td>0.52</td>\n",
       "    </tr>\n",
       "    <tr>\n",
       "      <th>2</th>\n",
       "      <td>2025-07-01T14:43:39.613Z</td>\n",
       "      <td>2025-07-01T15:43:39.613Z</td>\n",
       "      <td>PM10</td>\n",
       "      <td>0.87</td>\n",
       "    </tr>\n",
       "    <tr>\n",
       "      <th>3</th>\n",
       "      <td>2025-07-01T14:43:39.613Z</td>\n",
       "      <td>2025-07-01T15:43:39.613Z</td>\n",
       "      <td>PRESSURE</td>\n",
       "      <td>1018.62</td>\n",
       "    </tr>\n",
       "    <tr>\n",
       "      <th>4</th>\n",
       "      <td>2025-07-01T14:43:39.613Z</td>\n",
       "      <td>2025-07-01T15:43:39.613Z</td>\n",
       "      <td>HUMIDITY</td>\n",
       "      <td>36.81</td>\n",
       "    </tr>\n",
       "  </tbody>\n",
       "</table>\n",
       "</div>"
      ],
      "text/plain": [
       "               fromDateTime              tillDateTime parameter    value\n",
       "0  2025-07-01T14:43:39.613Z  2025-07-01T15:43:39.613Z       PM1     0.28\n",
       "1  2025-07-01T14:43:39.613Z  2025-07-01T15:43:39.613Z      PM25     0.52\n",
       "2  2025-07-01T14:43:39.613Z  2025-07-01T15:43:39.613Z      PM10     0.87\n",
       "3  2025-07-01T14:43:39.613Z  2025-07-01T15:43:39.613Z  PRESSURE  1018.62\n",
       "4  2025-07-01T14:43:39.613Z  2025-07-01T15:43:39.613Z  HUMIDITY    36.81"
      ]
     },
     "execution_count": 23,
     "metadata": {},
     "output_type": "execute_result"
    }
   ],
   "source": [
    "df.head()"
   ]
  },
  {
   "cell_type": "code",
   "execution_count": 24,
   "id": "4fd9ddbe",
   "metadata": {},
   "outputs": [
    {
     "data": {
      "text/html": [
       "<div>\n",
       "<style scoped>\n",
       "    .dataframe tbody tr th:only-of-type {\n",
       "        vertical-align: middle;\n",
       "    }\n",
       "\n",
       "    .dataframe tbody tr th {\n",
       "        vertical-align: top;\n",
       "    }\n",
       "\n",
       "    .dataframe thead th {\n",
       "        text-align: right;\n",
       "    }\n",
       "</style>\n",
       "<table border=\"1\" class=\"dataframe\">\n",
       "  <thead>\n",
       "    <tr style=\"text-align: right;\">\n",
       "      <th>parameter</th>\n",
       "      <th>HUMIDITY</th>\n",
       "      <th>PM1</th>\n",
       "      <th>PM10</th>\n",
       "      <th>PM25</th>\n",
       "      <th>PRESSURE</th>\n",
       "      <th>TEMPERATURE</th>\n",
       "    </tr>\n",
       "    <tr>\n",
       "      <th>fromDateTime</th>\n",
       "      <th></th>\n",
       "      <th></th>\n",
       "      <th></th>\n",
       "      <th></th>\n",
       "      <th></th>\n",
       "      <th></th>\n",
       "    </tr>\n",
       "  </thead>\n",
       "  <tbody>\n",
       "    <tr>\n",
       "      <th>2025-06-30T15:00:00.000Z</th>\n",
       "      <td>39.70</td>\n",
       "      <td>1.65</td>\n",
       "      <td>3.84</td>\n",
       "      <td>2.50</td>\n",
       "      <td>1016.78</td>\n",
       "      <td>23.57</td>\n",
       "    </tr>\n",
       "    <tr>\n",
       "      <th>2025-06-30T16:00:00.000Z</th>\n",
       "      <td>42.28</td>\n",
       "      <td>1.86</td>\n",
       "      <td>4.31</td>\n",
       "      <td>2.80</td>\n",
       "      <td>1016.61</td>\n",
       "      <td>23.21</td>\n",
       "    </tr>\n",
       "    <tr>\n",
       "      <th>2025-06-30T17:00:00.000Z</th>\n",
       "      <td>46.22</td>\n",
       "      <td>1.87</td>\n",
       "      <td>4.32</td>\n",
       "      <td>2.75</td>\n",
       "      <td>1016.59</td>\n",
       "      <td>22.33</td>\n",
       "    </tr>\n",
       "    <tr>\n",
       "      <th>2025-06-30T18:00:00.000Z</th>\n",
       "      <td>52.55</td>\n",
       "      <td>2.60</td>\n",
       "      <td>5.58</td>\n",
       "      <td>3.70</td>\n",
       "      <td>1016.85</td>\n",
       "      <td>20.82</td>\n",
       "    </tr>\n",
       "    <tr>\n",
       "      <th>2025-06-30T19:00:00.000Z</th>\n",
       "      <td>57.39</td>\n",
       "      <td>3.84</td>\n",
       "      <td>7.92</td>\n",
       "      <td>5.35</td>\n",
       "      <td>1017.65</td>\n",
       "      <td>19.58</td>\n",
       "    </tr>\n",
       "  </tbody>\n",
       "</table>\n",
       "</div>"
      ],
      "text/plain": [
       "parameter                 HUMIDITY   PM1  PM10  PM25  PRESSURE  TEMPERATURE\n",
       "fromDateTime                                                               \n",
       "2025-06-30T15:00:00.000Z     39.70  1.65  3.84  2.50   1016.78        23.57\n",
       "2025-06-30T16:00:00.000Z     42.28  1.86  4.31  2.80   1016.61        23.21\n",
       "2025-06-30T17:00:00.000Z     46.22  1.87  4.32  2.75   1016.59        22.33\n",
       "2025-06-30T18:00:00.000Z     52.55  2.60  5.58  3.70   1016.85        20.82\n",
       "2025-06-30T19:00:00.000Z     57.39  3.84  7.92  5.35   1017.65        19.58"
      ]
     },
     "execution_count": 24,
     "metadata": {},
     "output_type": "execute_result"
    }
   ],
   "source": [
    "df_wide.head()"
   ]
  },
  {
   "cell_type": "code",
   "execution_count": null,
   "id": "9f4ccc04",
   "metadata": {},
   "outputs": [
    {
     "data": {
      "image/png": "[encoded data removed]",
      "text/plain": [
       "<Figure size 1200x600 with 1 Axes>"
      ]
     },
     "metadata": {},
     "output_type": "display_data"
    }
   ],
   "source": [
    "df = pd.read_csv('../data/processed/airly/airly_2025-07-01.csv')\n",
    "        \n",
    "# Pivot: każda godzina w jednym wierszu, parametry w kolumnach\"\n",
    "df_wide = df.pivot_table(index='fromDateTime', columns='parameter', values='value')\n",
    "        \n",
    "# Konwersja daty\",\n",
    "df_wide.index = pd.to_datetime(df_wide.index)\n",
    "        \n",
    "# Wykres PM10\"\n",
    "#wielkosc\n",
    "plt.figure(figsize=(12,6))\n",
    "#wprowadznie danych\n",
    "plt.plot(df_wide.index, df_wide['PM10'], marker='o')\n",
    "#tytul i opisu osi\n",
    "plt.title('Stężenie PM10 w czasie')\n",
    "plt.xlabel('Data i godzina')\n",
    "plt.ylabel('PM10 [μg/m³]')\n",
    "#grid w tle\n",
    "plt.grid(True)\n",
    "#Wwyświetlenie wykresu\n",
    "plt.show()"
   ]
  },
  {
   "cell_type": "code",
   "execution_count": null,
   "id": "2af685af",
   "metadata": {},
   "outputs": [],
   "source": []
  }
 ],
 "metadata": {
  "kernelspec": {
   "display_name": "Python 3",
   "language": "python",
   "name": "python3"
  },
  "language_info": {
   "codemirror_mode": {
    "name": "ipython",
    "version": 3
   },
   "file_extension": ".py",
   "mimetype": "text/x-python",
   "name": "python",
   "nbconvert_exporter": "python",
   "pygments_lexer": "ipython3",
   "version": "3.13.3"
  }
 },
 "nbformat": 4,
 "nbformat_minor": 5
}
