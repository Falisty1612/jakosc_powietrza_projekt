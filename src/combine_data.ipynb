{
 "cells": [
  {
   "cell_type": "code",
   "execution_count": 7,
   "id": "d5e701ab",
   "metadata": {},
   "outputs": [],
   "source": [
    "import pandas as pd\n",
    "import os\n",
    "from datetime import datetime\n"
   ]
  },
  {
   "cell_type": "code",
   "execution_count": 8,
   "id": "80f842fb",
   "metadata": {},
   "outputs": [],
   "source": [
    "#użytkownik podaje datę (format: RRRR-MM-DD)\n",
    "data = input(\"Podaj datę w formacie RRRR-MM-DD (np. 2025-07-01): \").strip()\n",
    "\n",
    "#tworzenie dynamiczych ścieżek do plików\n",
    "airly_path = f\"../data/processed/airly/airly_{data}.csv\"\n",
    "meteo_path = f\"../data/processed/meteo/meteo_{data}.csv\"\n",
    "output_path = f\"../data/combined/combined_{data}.csv\"\n"
   ]
  },
  {
   "cell_type": "code",
   "execution_count": 13,
   "id": "7a2b548e",
   "metadata": {},
   "outputs": [],
   "source": [
    "def clean_airly(df: pd.DataFrame) -> pd.DataFrame:\n",
    "    # Zakładamy, że kolumny to: fromDateTime, tillDateTime, name, value\n",
    "    df['fromDateTime'] = pd.to_datetime(df['fromDateTime']).dt.tz_localize(None)\n",
    "\n",
    "    # Pivot – przekształcamy dane z formatu long na wide\n",
    "    df_airly_raw = pd.read_csv(airly_path, names=['fromDateTime', 'tillDateTime', 'name', 'value'])\n",
    "\n",
    "\n",
    "    #zmieniamy nazwy kolumn\n",
    "    df = df.rename(columns={\n",
    "        'fromDateTime': 'datetime',\n",
    "        'PM1': 'pm1',\n",
    "        'PM25': 'pm25',\n",
    "        'PM10': 'pm10',\n",
    "        'PRESSURE': 'pressure',\n",
    "        'HUMIDITY': 'humidity',\n",
    "        'TEMPERATURE': 'temperature',\n",
    "    })\n",
    "\n",
    "    df['source'] = 'airly'\n",
    "    return df\n",
    "\n",
    "def clean_meteo(df:pd.DataFrame) -> pd.DataFrame:\n",
    "\n",
    "    df = df.rename(columns=\n",
    "        {\n",
    "            'temperature_2m': 'temperature',\n",
    "            'relative_humidity_2m': 'humidity',\n",
    "            'windspeed_10m': 'windspeed',\n",
    "        }\n",
    "    )\n",
    "\n",
    "    df['datetime'] = pd.to_datetime(df['time'])\n",
    "\n",
    "    df['source'] = 'meteo'\n",
    "\n",
    "    cols = ['datetime', 'temperature', 'humidity', 'windspeed', 'source']\n",
    "    df = df[cols]\n",
    "\n",
    "    return df\n",
    "\n",
    "\n"
   ]
  },
  {
   "cell_type": "code",
   "execution_count": 14,
   "id": "02ad28f3",
   "metadata": {},
   "outputs": [
    {
     "name": "stdout",
     "output_type": "stream",
     "text": [
      "✅ Dane połączone i zapisane do: ../data/combined/combined_2025-07-01.csv ✅\n"
     ]
    }
   ],
   "source": [
    "try: \n",
    "    df_airly_raw = pd.read_csv(airly_path)\n",
    "    df_meteo_raw = pd.read_csv(meteo_path)\n",
    "\n",
    "    df_airly = clean_airly(df_airly_raw)\n",
    "    df_meteo = clean_meteo(df_meteo_raw)\n",
    "\n",
    "    df_combined = pd.concat([df_airly, df_meteo], ignore_index=True)\n",
    "    df_combined = df_combined.sort_values(\"datetime\")\n",
    "\n",
    "    #tworzenie katalogu, jeśli nie istnieje\n",
    "    os.makedirs(os.path.dirname(output_path), exist_ok=True)\n",
    "\n",
    "    #zapisanie DataFrame do pliku CSV\n",
    "    df_combined.to_csv(output_path, index=False)\n",
    "\n",
    "    print(f\"✅ Dane połączone i zapisane do: {output_path} ✅\")\n",
    "\n",
    "except FileNotFoundError as e:\n",
    "    print(f\"❌ Błąd: Plik {e.filename} nie został znaleziony. Sprawdź ścieżki do plików: {e}\")\n",
    "except pd.errors.EmptyDataError:\n",
    "    print(\"❌ Błąd: Plik jest pusty lub nie zawiera danych.\")\n",
    "except Exception as e:\n",
    "    print(f\"❌ Wystąpił błąd: {e}. Sprawdź, czy pliki są poprawne i czy nie ma problemów z formatem danych.\")"
   ]
  }
 ],
 "metadata": {
  "kernelspec": {
   "display_name": "Python 3",
   "language": "python",
   "name": "python3"
  },
  "language_info": {
   "codemirror_mode": {
    "name": "ipython",
    "version": 3
   },
   "file_extension": ".py",
   "mimetype": "text/x-python",
   "name": "python",
   "nbconvert_exporter": "python",
   "pygments_lexer": "ipython3",
   "version": "3.13.3"
  }
 },
 "nbformat": 4,
 "nbformat_minor": 5
}
